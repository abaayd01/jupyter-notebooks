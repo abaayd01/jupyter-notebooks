{
  "metadata": {
    "language_info": {
      "codemirror_mode": {
        "name": "python",
        "version": 3
      },
      "file_extension": ".py",
      "mimetype": "text/x-python",
      "name": "python",
      "nbconvert_exporter": "python",
      "pygments_lexer": "ipython3",
      "version": "3.8"
    },
    "kernelspec": {
      "name": "python",
      "display_name": "Python (Pyodide)",
      "language": "python"
    }
  },
  "nbformat_minor": 4,
  "nbformat": 4,
  "cells": [
    {
      "cell_type": "markdown",
      "source": "## Instructions\n\n- what you're looking at is a Jupyter Notebook, I'm using it as a way to execute snippets of Python code in a web browser\n- the script uses basic features of a Python library called \"Pandas\" to do the data manipulation, I assume there's an equivalent in R\n- you can run the script by clicking into the code block below pressing the small play button above\n  - the script will read whatever CSV you have in the input.csv file, and write the processed output to an output.csv file (see file browser to left for these)\n  - after runnning the script, it'll print out a snippet of the processed output at the bottom of the page\n  - to see the updated output, you may need to hit \"Refresh file list\" in the file browser side panel",
      "metadata": {}
    },
    {
      "cell_type": "code",
      "source": "import pandas as pd\n\ndef is_a_buy_txn(txn):\n    sum_buy = txn[\"sum_buy\"]\n    sum_sell = txn[\"sum_sell\"]\n    return sum_buy > sum_sell\n\ndef is_a_sell_txn(txn):\n    return not is_a_buy_txn(txn)\n\ndef calc_sell_volume(txn):\n    # if inventory decreased from one day to the next, consider it a sale and return the delta\n    if txn[\"net_inventory\"] < txn[\"prev_net_inventory\"]:\n        return txn[\"prev_net_inventory\"] - txn[\"net_inventory\"]\n    \n    # otherwise, assume we don't sell units\n    return 0\n\ndef append_calcs_for_txns_for_date(txns_for_date):\n    cumulative_net_inventory_for_day = 0\n\n    for i, txn in txns_for_date.iterrows():\n        if is_a_buy_txn(txn):\n            txns_for_date.at[i, \"net_inventory\"] = cumulative_net_inventory_for_day + txn[\"sum_buy\"]\n            cumulative_net_inventory_for_day = txns_for_date.at[i, \"net_inventory\"]\n            continue\n\n        if is_a_sell_txn(txn):\n            # we assume we start with 0 inventory\n            # if the sale would yield negative inventory, sell 100% of inventory, and reset the net inventory back to 0\n            # otherwise, we just decrement the net inventory by the amount we sold\n            next_net_inventory = cumulative_net_inventory_for_day - txn[\"sum_sell\"]\n            if next_net_inventory < 0:\n                txns_for_date.at[i, \"net_inventory\"] = 0\n                cumulative_net_inventory_for_day = 0\n            else:\n                txns_for_date.at[i, \"net_inventory\"] = next_net_inventory\n                cumulative_net_inventory_for_day = txns_for_date.at[i, \"net_inventory\"]\n            continue\n\n    txns_for_date[\"prev_net_inventory\"] = txns_for_date[\"net_inventory\"].shift(1)\n    txns_for_date[\"sell_volume\"] = txns_for_date.apply(calc_sell_volume, axis=1)\n\n    txns_for_date[\"cost_of_buys\"] = txns_for_date[\"sum_buy\"] * txns_for_date[\"avg_price\"]\n    txns_for_date[\"cum_cost\"] = txns_for_date[\"cost_of_buys\"].cumsum()\n\n    txns_for_date[\"revenue_from_sells\"] = txns_for_date[\"sell_volume\"] * txns_for_date[\"avg_price\"]\n    txns_for_date[\"cum_revenue\"] = txns_for_date[\"revenue_from_sells\"].cumsum()\n    txns_for_date = txns_for_date.fillna(0)\n    txns_for_date[\"profit\"] = txns_for_date[\"cum_revenue\"] - txns_for_date[\"cum_cost\"]\n    return txns_for_date\n\n# read the file input.csv into a dataframe\ninput_df = pd.read_csv(\"./input.csv\").fillna(0).assign(net_inventory=0)\n\nworking_df = pd.DataFrame(columns=input_df.columns)\nfor (date, txns_for_date) in input_df.groupby(\"date\"):\n    ret = append_calcs_for_txns_for_date(txns_for_date)\n    working_df = pd.concat([working_df, ret])\n    \n# stripping out the intermediate columns added to the working dataframe\noutput_df = working_df[input_df.columns.append(pd.Index([\"cum_cost\", \"cum_revenue\", \"profit\"]))]\n\n# write the processed dataframe into the output file out.csv\n# out.csv will contain the additional columns of \"cum_cost\", \"cum_revenue\" and \"profit\"\noutput_df.to_csv(\"./out.csv\")\n\nfrom IPython.display import display, HTML\n\n# input\ndisplay(HTML(input_df[input_df[\"date\"] == \"1/9/12\"].to_html()))\n\n# output\ndisplay(HTML(output_df[output_df[\"date\"] == \"1/9/12\"].to_html()))",
      "metadata": {
        "trusted": true
      },
      "execution_count": null,
      "outputs": []
    },
    {
      "cell_type": "code",
      "source": "",
      "metadata": {},
      "execution_count": null,
      "outputs": []
    }
  ]
}